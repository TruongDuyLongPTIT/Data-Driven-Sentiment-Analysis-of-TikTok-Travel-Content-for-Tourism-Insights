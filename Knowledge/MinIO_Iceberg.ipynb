{
  "cells": [
    {
      "cell_type": "markdown",
      "metadata": {
        "id": "Kiq_eMBHXH2b"
      },
      "source": [
        "# **1. MinIO là gì?**"
      ]
    },
    {
      "cell_type": "markdown",
      "metadata": {
        "id": "sneowIWWXDCj"
      },
      "source": [
        "- MinIO là một hệ thống lưu trữ đối tượng (object storage) mã nguồn mở, tương tự như Amazon S3. Nó được thiết kế để lưu trữ và quản lý dữ liệu phi cấu trúc (ảnh, video, log, dữ liệu sensor, file backup, dataset lớn, v.v.).\n",
        "\n",
        "🔑 Đặc điểm chính của MinIO:\n",
        "\n",
        "- S3-compatible API: tương thích với Amazon S3 API, nên các ứng dụng viết cho S3 có thể chạy với MinIO gần như không cần chỉnh sửa.\n",
        "\n",
        "- Triển khai linh hoạt: chạy được trên bare metal, VM, container, Kubernetes.\n",
        "\n",
        "- Hiệu năng cao: được tối ưu cho big data workloads, AI/ML, analytics.\n",
        "\n",
        "- Mã nguồn mở: bạn có thể dùng miễn phí hoặc mua enterprise support.\n",
        "\n",
        "- Hỗ trợ scale-out: gom nhiều node thành 1 cluster lưu trữ dữ liệu petabyte.\n",
        "\n",
        "- Bảo mật: hỗ trợ TLS, IAM, kiểm soát truy cập chi tiết.\n",
        "\n",
        "📌 Ứng dụng thực tế:\n",
        "\n",
        "- Làm data lake để lưu trữ dữ liệu thô từ nhiều nguồn (log, IoT, API, database).\n",
        "\n",
        "- Lưu backup & archive.\n",
        "\n",
        "- Làm storage backend cho Spark, Presto, Trino, Hive, dbt, Airflow...\n",
        "\n",
        "- Phục vụ AI/ML training, khi cần đọc dữ liệu lớn từ file.\n",
        "\n",
        "👉 Nói ngắn gọn: MinIO = S3 self-hosted (tự dựng) cho các dự án Data Engineering, Big Data, AI."
      ]
    },
    {
      "cell_type": "markdown",
      "metadata": {
        "id": "8vIZT5UrXh5r"
      },
      "source": [
        "# **2. 🧊 Iceberg là gì?**"
      ]
    },
    {
      "cell_type": "markdown",
      "metadata": {
        "id": "77QErVDlXowK"
      },
      "source": [
        "- Apache Iceberg = Table Format dành cho data lake.\n",
        "\n",
        "- Nó không phải database, cũng không phải file format mới.\n",
        "\n",
        "- Nhiệm vụ của Iceberg là biến một đống file Parquet/ORC/Avro trong data lake thành “bảng” giống như SQL table để query và quản lý dễ dàng.\n",
        "\n",
        "🎯 Các điểm mạnh:\n",
        "- Schema evolution: thay đổi schema (thêm/bỏ cột) mà không phá dữ liệu cũ.\n",
        "\n",
        "- Time travel: quay ngược về snapshot trước đó (kiểu SELECT * FROM table VERSION AS OF '2025-08-01').\n",
        "\n",
        "- ACID transaction: hỗ trợ update, delete, merge dữ liệu trong data lake.\n",
        "\n",
        "- Partitioning thông minh: không cần nhớ partition path thủ công.\n",
        "\n",
        "- Query engines hỗ trợ: Spark, Trino, Flink, Snowflake, Dremio, Athena…\n",
        "\n",
        "- Nói ngắn gọn: Parquet = file; Iceberg = tổ chức thành bảng + metadata + snapshot."
      ]
    },
    {
      "cell_type": "markdown",
      "metadata": {
        "id": "uCsQMb0HYRKS"
      },
      "source": [
        "# **3. Khi có minIO rồi thì cài iceberg trên nó à?**"
      ]
    },
    {
      "cell_type": "markdown",
      "metadata": {
        "id": "mIEaxWMWYVGS"
      },
      "source": [
        "- Không, cách mà nó thực sự hoạt động như ví dụ sau:\n",
        "    + Ban đầu, data raw được lưu trong /raw-bucket/users dưới dạng các file Parquet:"
      ]
    },
    {
      "cell_type": "code",
      "execution_count": null,
      "metadata": {
        "vscode": {
          "languageId": "plaintext"
        }
      },
      "outputs": [],
      "source": [
        "/raw-bucket/users/\n",
        "   users1.parquet \n",
        "   users2.parquet "
      ]
    },
    {
      "cell_type": "markdown",
      "metadata": {},
      "source": [
        "    + Sau đó, khi chạy lệnh SQL dưới đây thì nó tạo ra 1 file metadata trong /iceberg-bucket/warehouse/users':"
      ]
    },
    {
      "cell_type": "code",
      "execution_count": null,
      "metadata": {
        "vscode": {
          "languageId": "plaintext"
        }
      },
      "outputs": [],
      "source": [
        "CREATE TABLE local.db.users (\n",
        "  id BIGINT,\n",
        "  name STRING,\n",
        "  age INT\n",
        ") USING iceberg\n",
        "LOCATION 's3a://iceberg-bucket/warehouse/users';\n"
      ]
    },
    {
      "cell_type": "code",
      "execution_count": null,
      "metadata": {
        "vscode": {
          "languageId": "plaintext"
        }
      },
      "outputs": [],
      "source": [
        "/iceberg-bucket/warehouse/users/\n",
        "   metadata/\n",
        "      v1.metadata.json     # mô tả schema, partition, snapshot\n",
        "      schema-1.avsc        # mô tả schema Avro\n",
        "   data/                   # (chưa có file vì chưa insert)"
      ]
    },
    {
      "cell_type": "markdown",
      "metadata": {},
      "source": [
        "    + Và bây giờ, các query engine (Ex: Spark, Trino) sẽ coi folder /iceberg-bucket/warehouse/users/ như là 1 bảng User có các hàng, cột đầy đủ\n",
        "    => Tức là các query engine có thể truy vấn dữ liệu như bảng bình thường bằng SQL"
      ]
    },
    {
      "cell_type": "code",
      "execution_count": null,
      "metadata": {
        "vscode": {
          "languageId": "plaintext"
        }
      },
      "outputs": [],
      "source": [
        "SELECT * \n",
        "FROM local.db.users\n",
        "WHERE country = 'Vietnam';\n"
      ]
    },
    {
      "cell_type": "markdown",
      "metadata": {},
      "source": [
        "    + Tuy nhiên, hãy để ý, trong /iceberg-bucket/warehouse/users/data hiện chưa có gì, do đó, cần phải INSERT dữ liệu từ /raw-bucket/ sang"
      ]
    },
    {
      "cell_type": "code",
      "execution_count": null,
      "metadata": {
        "vscode": {
          "languageId": "plaintext"
        }
      },
      "outputs": [],
      "source": [
        "INSERT INTO local.db.users\n",
        "SELECT * FROM parquet.`s3a://raw-bucket/users/users1.parquet`;\n",
        "\n",
        "INSERT INTO local.db.users\n",
        "SELECT * FROM parquet.`s3a://raw-bucket/users/users2.parquet`;\n"
      ]
    },
    {
      "cell_type": "markdown",
      "metadata": {},
      "source": [
        "# **4. Snapshot là gì**"
      ]
    },
    {
      "cell_type": "markdown",
      "metadata": {},
      "source": [
        "- Về cơ bản, khi 1 folder (ví dụ như /raw-bucket/users/) có bất cứ thứ gì thay đổi (thêm, sửa , xóa, merge) thì Iceberg không ghi đè file cũ mà tạo ra 1 snapshot mới => Snapshot = một bản chụp toàn bộ trạng thái bảng tại một thời điểm.\n",
        "- Nó lưu:\n",
        "    + Các data files (Parquet/ORC/Avro) nào đang thuộc về bảng.\n",
        "    + Các delete files (nếu có).\n",
        "    + Metadata tham chiếu đến chúng."
      ]
    },
    {
      "cell_type": "markdown",
      "metadata": {},
      "source": [
        "- Lợi ích:\n",
        "    + Atomic & ACID: nhờ snapshot nên mọi thay đổi đều an toàn, hoặc commit hết hoặc không commit gì.\n",
        "    + Rollback dễ dàng: nếu ETL sai, bạn chỉ cần ROLLBACK TO SNAPSHOT <id> là dữ liệu quay lại trạng thái trước đó.\n",
        "    + Time travel: bạn có thể query dữ liệu \"quay ngược thời gian\":"
      ]
    },
    {
      "cell_type": "code",
      "execution_count": null,
      "metadata": {
        "vscode": {
          "languageId": "plaintext"
        }
      },
      "outputs": [],
      "source": [
        "-- Query snapshot mới nhất (mặc định)\n",
        "SELECT * FROM my_table;\n",
        "\n",
        "-- Query snapshot theo ID cụ thể\n",
        "SELECT * FROM my_table.snapshot_id = '123456789';\n",
        "\n",
        "-- Query bảng tại thời điểm T trong quá khứ\n",
        "SELECT * FROM my_table FOR TIMESTAMP AS OF '2025-08-01 10:00:00';\n"
      ]
    },
    {
      "cell_type": "markdown",
      "metadata": {},
      "source": [
        "- Snapshot thì được lưu ở đâu?\n",
        "    + Snapshot không phải là file riêng biệt kiểu snapshot-xxx.json.\n",
        "    + Thông tin snapshot nằm trong metadata.json (v1.metadata.json, v2.metadata.json, …).\n",
        "    + Trong file v2.metadata.json có một mảng snapshots chứa nhiều bản ghi, mỗi bản ghi là một snapshot.\n",
        "- Ví dụ (rút gọn):"
      ]
    },
    {
      "cell_type": "code",
      "execution_count": null,
      "metadata": {
        "vscode": {
          "languageId": "plaintext"
        }
      },
      "outputs": [],
      "source": [
        "{\n",
        "  \"format-version\": 2,\n",
        "  \"table-uuid\": \"1234-5678\",\n",
        "  \"snapshots\": [\n",
        "    {\n",
        "      \"snapshot-id\": 111,\n",
        "      \"timestamp-ms\": 1690000000000,\n",
        "      \"summary\": { \"operation\": \"append\" },\n",
        "      \"manifest-list\": \"s3://bucket/db/table/metadata/snap-111.avro\"\n",
        "    },\n",
        "    {\n",
        "      \"snapshot-id\": 112,\n",
        "      \"timestamp-ms\": 1690000500000,\n",
        "      \"summary\": { \"operation\": \"overwrite\" },\n",
        "      \"manifest-list\": \"s3://bucket/db/table/metadata/snap-112.avro\"\n",
        "    }\n",
        "  ],\n",
        "  \"current-snapshot-id\": 112\n",
        "}\n"
      ]
    },
    {
      "cell_type": "markdown",
      "metadata": {},
      "source": [
        "- Như vậy:\n",
        "\n",
        "    + v1.metadata.json thường chứa thông tin của 1 snapshot (ban đầu).\n",
        "\n",
        "    + v2.metadata.json chứa thông tin của 2 snapshot (snapshot cũ + snapshot mới nhất).\n",
        "\n",
        "    + current-snapshot-id chỉ ra snapshot đang active để đọc bảng."
      ]
    },
    {
      "cell_type": "markdown",
      "metadata": {},
      "source": [
        "**=> Cấu trúc folder Iceberg đầy đủ như sau:**"
      ]
    },
    {
      "cell_type": "code",
      "execution_count": null,
      "metadata": {
        "vscode": {
          "languageId": "plaintext"
        }
      },
      "outputs": [],
      "source": [
        "my_table/\n",
        "  metadata/\n",
        "    v1.metadata.json\n",
        "    v2.metadata.json\n",
        "    ...\n",
        "  data/\n",
        "    <các file parquet>\n",
        "  snap-*.avro\n",
        "  manifest-*.avro\n"
      ]
    },
    {
      "cell_type": "markdown",
      "metadata": {},
      "source": [
        "📌 Về File vật lý của snapshot\n",
        "\n",
        "+ Mỗi snapshot tham chiếu đến một file gọi là manifest list (snap-xxx.avro).\n",
        "\n",
        "+ Manifest list này lại tham chiếu đến nhiều manifest files (manifest-xxx.avro).\n",
        "\n",
        "+ Các manifest file chứa danh sách các data files (Parquet/ORC) cụ thể.\n",
        "\n",
        "⛓️ Chuỗi liên kết:\n",
        "+ metadata.json → snap-xxx.avro → manifest-xxx.avro → *.parquet"
      ]
    }
  ],
  "metadata": {
    "colab": {
      "provenance": []
    },
    "kernelspec": {
      "display_name": "Python 3",
      "name": "python3"
    },
    "language_info": {
      "name": "python"
    }
  },
  "nbformat": 4,
  "nbformat_minor": 0
}
